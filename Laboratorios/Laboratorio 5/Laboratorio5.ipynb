{
  "nbformat": 4,
  "nbformat_minor": 0,
  "metadata": {
    "colab": {
      "provenance": []
    },
    "kernelspec": {
      "name": "python3",
      "display_name": "Python 3"
    },
    "language_info": {
      "name": "python"
    }
  },
  "cells": [
    {
      "cell_type": "code",
      "execution_count": 1,
      "metadata": {
        "id": "8BGqvPdyhlzh"
      },
      "outputs": [],
      "source": [
        "# RED NEURONAL CON PYTORCH: RECONOCIMIENTO DE LETRAS DEL ALFABETO INGLÉS\n",
        "\n",
        "## Descripción\n",
        "# Implementación de una red neuronal usando PyTorch para clasificar letras del alfabeto inglés (A-Z)\n",
        "# utilizando el dataset Letter Recognition (UCI Repository) con el objetivo de superar la precisión\n",
        "# del modelo One-vs-All implementado previamente.\n",
        "\n",
        "# Importar bibliotecas necesarias\n",
        "import numpy as np\n",
        "import pandas as pd\n",
        "import matplotlib.pyplot as plt\n",
        "import torch\n",
        "import torch.nn as nn\n",
        "import torch.optim as optim\n",
        "from torch.utils.data import DataLoader, TensorDataset\n",
        "from sklearn.model_selection import train_test_split\n",
        "from sklearn.preprocessing import LabelEncoder\n",
        "from sklearn.metrics import accuracy_score, classification_report, confusion_matrix\n",
        "import seaborn as sns\n",
        "\n"
      ]
    },
    {
      "cell_type": "code",
      "source": [
        "# Configurar dispositivo (GPU si está disponible)\n",
        "device = torch.device('cuda' if torch.cuda.is_available() else 'cpu')\n",
        "print(f'Dispositivo utilizado: {device}')\n",
        "\n",
        "# Configurar semilla para reproducibilidad\n",
        "torch.manual_seed(42)\n",
        "np.random.seed(42)"
      ],
      "metadata": {
        "colab": {
          "base_uri": "https://localhost:8080/"
        },
        "id": "tjL_a4MJhu1K",
        "outputId": "8863f2ff-f83f-4f62-e4e0-a0bcfd0da111"
      },
      "execution_count": 2,
      "outputs": [
        {
          "output_type": "stream",
          "name": "stdout",
          "text": [
            "Dispositivo utilizado: cpu\n"
          ]
        }
      ]
    },
    {
      "cell_type": "code",
      "source": [
        "## Carga y Preparación del Dataset\n",
        "# Utilizamos el mismo dataset del ejercicio anterior\n",
        "\n",
        "# Cargar dataset\n",
        "try:\n",
        "    from ucimlrepo import fetch_ucirepo\n",
        "    letter_recognition = fetch_ucirepo(id=59)\n",
        "    X_features = letter_recognition.data.features\n",
        "    y_target = letter_recognition.data.targets\n",
        "    df = pd.concat([y_target, X_features], axis=1)\n",
        "except ImportError:\n",
        "    print(\"Instalando ucimlrepo...\")\n",
        "    import subprocess\n",
        "    subprocess.run(['pip', 'install', 'ucimlrepo'])\n",
        "    from ucimlrepo import fetch_ucirepo\n",
        "    letter_recognition = fetch_ucirepo(id=59)\n",
        "    X_features = letter_recognition.data.features\n",
        "    y_target = letter_recognition.data.targets\n",
        "    df = pd.concat([y_target, X_features], axis=1)\n",
        "except:\n",
        "    # Cargar desde archivo local si hay problemas con UCI\n",
        "    print(\"Cargando desde archivo local...\")\n",
        "    df = pd.read_csv('letter-recognition.data',\n",
        "                     header=None,\n",
        "                     names=['lettr', 'x-box', 'y-box', 'width', 'high', 'onpix',\n",
        "                            'x-bar', 'y-bar', 'x2bar', 'y2bar', 'xybar', 'x2ybr',\n",
        "                            'xy2br', 'x-ege', 'xegvy', 'y-ege', 'yegvx'])\n",
        "\n",
        "print(f\"Forma del dataset: {df.shape}\")\n",
        "print(f\"Clases disponibles: {df['lettr'].nunique()}\")\n",
        "\n"
      ],
      "metadata": {
        "colab": {
          "base_uri": "https://localhost:8080/"
        },
        "id": "c-WQnYrxh2xb",
        "outputId": "8ec3ab4a-e785-406f-87a2-df35de724040"
      },
      "execution_count": 3,
      "outputs": [
        {
          "output_type": "stream",
          "name": "stdout",
          "text": [
            "Instalando ucimlrepo...\n",
            "Forma del dataset: (20000, 17)\n",
            "Clases disponibles: 26\n"
          ]
        }
      ]
    },
    {
      "cell_type": "code",
      "source": [
        "## Preprocesamiento de Datos\n",
        "# Separar características y etiquetas\n",
        "X = df.iloc[:, 1:].values\n",
        "y_letters = df.iloc[:, 0].values\n",
        "\n",
        "# Codificar etiquetas\n",
        "label_encoder = LabelEncoder()\n",
        "y = label_encoder.fit_transform(y_letters)\n",
        "\n",
        "print(f\"Distribución de clases: {dict(zip(label_encoder.classes_, np.bincount(y)))}\")\n",
        "\n",
        "\n",
        "print(\"La red neuronal PyTorch ha sido entrenada y evaluada.\")"
      ],
      "metadata": {
        "colab": {
          "base_uri": "https://localhost:8080/"
        },
        "id": "8jKUhpJ6h6Sj",
        "outputId": "666d4a2a-0213-4e74-bc1e-b8a9485108ec"
      },
      "execution_count": 4,
      "outputs": [
        {
          "output_type": "stream",
          "name": "stdout",
          "text": [
            "Distribución de clases: {'A': np.int64(789), 'B': np.int64(766), 'C': np.int64(736), 'D': np.int64(805), 'E': np.int64(768), 'F': np.int64(775), 'G': np.int64(773), 'H': np.int64(734), 'I': np.int64(755), 'J': np.int64(747), 'K': np.int64(739), 'L': np.int64(761), 'M': np.int64(792), 'N': np.int64(783), 'O': np.int64(753), 'P': np.int64(803), 'Q': np.int64(783), 'R': np.int64(758), 'S': np.int64(748), 'T': np.int64(796), 'U': np.int64(813), 'V': np.int64(764), 'W': np.int64(752), 'X': np.int64(787), 'Y': np.int64(786), 'Z': np.int64(734)}\n",
            "La red neuronal PyTorch ha sido entrenada y evaluada.\n"
          ]
        }
      ]
    },
    {
      "cell_type": "code",
      "source": [
        "# Normalización usando z-score\n",
        "def normalize_features(X):\n",
        "    X_norm = X.copy().astype(np.float32)\n",
        "    mu = np.mean(X, axis=0)\n",
        "    sigma = np.std(X, axis=0)\n",
        "    sigma[sigma == 0] = 1  # Evitar división por cero\n",
        "    X_norm = (X - mu) / sigma\n",
        "    return X_norm, mu, sigma\n",
        "\n",
        "X_norm, mu, sigma = normalize_features(X)\n",
        "\n"
      ],
      "metadata": {
        "id": "l9i7iRWIh_B8"
      },
      "execution_count": 5,
      "outputs": []
    },
    {
      "cell_type": "code",
      "source": [
        "# División de datos (80% entrenamiento, 20% prueba)\n",
        "X_train, X_test, y_train, y_test = train_test_split(\n",
        "    X_norm, y, test_size=0.2, random_state=42, stratify=y\n",
        ")\n",
        "\n",
        "print(f\"Datos de entrenamiento: {X_train.shape[0]}\")\n",
        "print(f\"Datos de prueba: {X_test.shape[0]}\")"
      ],
      "metadata": {
        "colab": {
          "base_uri": "https://localhost:8080/"
        },
        "id": "zLyfPp0diCAq",
        "outputId": "2fd2e0ad-b996-4ba3-e4e4-ecbfad721c2b"
      },
      "execution_count": 6,
      "outputs": [
        {
          "output_type": "stream",
          "name": "stdout",
          "text": [
            "Datos de entrenamiento: 16000\n",
            "Datos de prueba: 4000\n"
          ]
        }
      ]
    },
    {
      "cell_type": "code",
      "source": [
        "## Definición de la Red Neuronal\n",
        "class LetterClassifier(nn.Module):\n",
        "    \"\"\"\n",
        "    Red neuronal feed-forward para clasificación multiclase de letras\n",
        "    \"\"\"\n",
        "    def __init__(self, input_size, hidden_sizes, num_classes, dropout_rate=0.3):\n",
        "        super(LetterClassifier, self).__init__()\n",
        "\n",
        "        layers = []\n",
        "        prev_size = input_size\n",
        "\n",
        "        # Crear capas ocultas\n",
        "        for hidden_size in hidden_sizes:\n",
        "            layers.append(nn.Linear(prev_size, hidden_size))\n",
        "            layers.append(nn.ReLU())\n",
        "            layers.append(nn.BatchNorm1d(hidden_size))\n",
        "            layers.append(nn.Dropout(dropout_rate))\n",
        "            prev_size = hidden_size\n",
        "\n",
        "        # Capa de salida\n",
        "        layers.append(nn.Linear(prev_size, num_classes))\n",
        "\n",
        "        self.network = nn.Sequential(*layers)\n",
        "\n",
        "    def forward(self, x):\n",
        "        return self.network(x)\n",
        "\n"
      ],
      "metadata": {
        "id": "1tEgsdgciEl1"
      },
      "execution_count": 7,
      "outputs": []
    },
    {
      "cell_type": "code",
      "source": [
        "# Configuración de la red\n",
        "input_size = X_train.shape[1]  # 16 características\n",
        "hidden_sizes = [128, 64, 32]  # Arquitectura con 3 capas ocultas\n",
        "num_classes = 26  # 26 letras del alfabeto\n",
        "dropout_rate = 0.3\n",
        "\n",
        "# Instanciar el modelo\n",
        "model = LetterClassifier(input_size, hidden_sizes, num_classes, dropout_rate)\n",
        "model = model.to(device)\n",
        "\n",
        "print(f\"Arquitectura del modelo:\")\n",
        "print(model)\n",
        "\n",
        "# Contar parámetros\n",
        "total_params = sum(p.numel() for p in model.parameters())\n",
        "trainable_params = sum(p.numel() for p in model.parameters() if p.requires_grad)\n",
        "print(f\"Parámetros totales: {total_params:,}\")\n",
        "print(f\"Parámetros entrenables: {trainable_params:,}\")\n"
      ],
      "metadata": {
        "colab": {
          "base_uri": "https://localhost:8080/"
        },
        "id": "9gv9z1djiHYz",
        "outputId": "c3e859a8-9ab4-4897-b52f-a7b9caa1d88e"
      },
      "execution_count": 8,
      "outputs": [
        {
          "output_type": "stream",
          "name": "stdout",
          "text": [
            "Arquitectura del modelo:\n",
            "LetterClassifier(\n",
            "  (network): Sequential(\n",
            "    (0): Linear(in_features=16, out_features=128, bias=True)\n",
            "    (1): ReLU()\n",
            "    (2): BatchNorm1d(128, eps=1e-05, momentum=0.1, affine=True, track_running_stats=True)\n",
            "    (3): Dropout(p=0.3, inplace=False)\n",
            "    (4): Linear(in_features=128, out_features=64, bias=True)\n",
            "    (5): ReLU()\n",
            "    (6): BatchNorm1d(64, eps=1e-05, momentum=0.1, affine=True, track_running_stats=True)\n",
            "    (7): Dropout(p=0.3, inplace=False)\n",
            "    (8): Linear(in_features=64, out_features=32, bias=True)\n",
            "    (9): ReLU()\n",
            "    (10): BatchNorm1d(32, eps=1e-05, momentum=0.1, affine=True, track_running_stats=True)\n",
            "    (11): Dropout(p=0.3, inplace=False)\n",
            "    (12): Linear(in_features=32, out_features=26, bias=True)\n",
            "  )\n",
            ")\n",
            "Parámetros totales: 13,818\n",
            "Parámetros entrenables: 13,818\n"
          ]
        }
      ]
    },
    {
      "cell_type": "code",
      "source": [
        "\n",
        "## Preparación de Datos para PyTorch\n",
        "# Convertir a tensores de PyTorch\n",
        "X_train_tensor = torch.FloatTensor(X_train).to(device)\n",
        "y_train_tensor = torch.LongTensor(y_train).to(device)\n",
        "X_test_tensor = torch.FloatTensor(X_test).to(device)\n",
        "y_test_tensor = torch.LongTensor(y_test).to(device)\n",
        "\n",
        "# Crear datasets y dataloaders\n",
        "train_dataset = TensorDataset(X_train_tensor, y_train_tensor)\n",
        "test_dataset = TensorDataset(X_test_tensor, y_test_tensor)\n",
        "\n",
        "batch_size = 128\n",
        "train_loader = DataLoader(train_dataset, batch_size=batch_size, shuffle=True)\n",
        "test_loader = DataLoader(test_dataset, batch_size=batch_size, shuffle=False)\n",
        "\n",
        "## Configuración del Entrenamiento\n",
        "# Función de pérdida y optimizador\n",
        "criterion = nn.CrossEntropyLoss()\n",
        "optimizer = optim.Adam(model.parameters(), lr=0.001, weight_decay=1e-5)\n",
        "\n",
        "# Scheduler para ajustar la tasa de aprendizaje\n",
        "scheduler = optim.lr_scheduler.StepLR(optimizer, step_size=30, gamma=0.1)"
      ],
      "metadata": {
        "id": "FuxTKyoEiMYg"
      },
      "execution_count": 9,
      "outputs": []
    },
    {
      "cell_type": "code",
      "source": [
        "## Función de Entrenamiento\n",
        "def train_epoch(model, train_loader, criterion, optimizer):\n",
        "    model.train()\n",
        "    running_loss = 0.0\n",
        "    correct = 0\n",
        "    total = 0\n",
        "\n",
        "    for batch_idx, (data, target) in enumerate(train_loader):\n",
        "        optimizer.zero_grad()\n",
        "        outputs = model(data)\n",
        "        loss = criterion(outputs, target)\n",
        "        loss.backward()\n",
        "        optimizer.step()\n",
        "\n",
        "        running_loss += loss.item()\n",
        "        _, predicted = torch.max(outputs.data, 1)\n",
        "        total += target.size(0)\n",
        "        correct += (predicted == target).sum().item()\n",
        "\n",
        "    epoch_loss = running_loss / len(train_loader)\n",
        "    epoch_acc = 100. * correct / total\n",
        "    return epoch_loss, epoch_acc\n",
        "\n"
      ],
      "metadata": {
        "id": "CQIzN3YbiRxo"
      },
      "execution_count": 10,
      "outputs": []
    },
    {
      "cell_type": "code",
      "source": [
        "## Función de Evaluación\n",
        "def evaluate_model(model, test_loader, criterion):\n",
        "    model.eval()\n",
        "    test_loss = 0.0\n",
        "    correct = 0\n",
        "    total = 0\n",
        "\n",
        "    with torch.no_grad():\n",
        "        for data, target in test_loader:\n",
        "            outputs = model(data)\n",
        "            loss = criterion(outputs, target)\n",
        "            test_loss += loss.item()\n",
        "\n",
        "            _, predicted = torch.max(outputs.data, 1)\n",
        "            total += target.size(0)\n",
        "            correct += (predicted == target).sum().item()\n",
        "\n",
        "    test_loss = test_loss / len(test_loader)\n",
        "    test_acc = 100. * correct / total\n",
        "    return test_loss, test_acc\n"
      ],
      "metadata": {
        "id": "jqSNNebjiWun"
      },
      "execution_count": 11,
      "outputs": []
    },
    {
      "cell_type": "code",
      "source": [
        "\n",
        "## Entrenamiento del Modelo\n",
        "num_epochs = 100\n",
        "train_losses = []\n",
        "train_accuracies = []\n",
        "val_losses = []\n",
        "val_accuracies = []\n",
        "\n",
        "best_val_acc = 0\n",
        "best_model_state = None\n",
        "\n",
        "print(\"Iniciando entrenamiento...\")\n",
        "print(\"-\" * 60)\n",
        "\n",
        "for epoch in range(num_epochs):\n",
        "    # Entrenamiento\n",
        "    train_loss, train_acc = train_epoch(model, train_loader, criterion, optimizer)\n",
        "\n",
        "    # Evaluación\n",
        "    val_loss, val_acc = evaluate_model(model, test_loader, criterion)\n",
        "\n",
        "    # Guardar métricas\n",
        "    train_losses.append(train_loss)\n",
        "    train_accuracies.append(train_acc)\n",
        "    val_losses.append(val_loss)\n",
        "    val_accuracies.append(val_acc)\n",
        "\n",
        "    # Guardar el mejor modelo\n",
        "    if val_acc > best_val_acc:\n",
        "        best_val_acc = val_acc\n",
        "        best_model_state = model.state_dict().copy()\n",
        "\n",
        "    # Actualizar scheduler\n",
        "    scheduler.step()\n",
        "\n",
        "    # Mostrar progreso cada 10 épocas\n",
        "    if (epoch + 1) % 10 == 0 or epoch == 0:\n",
        "        print(f'Época [{epoch+1:3d}/{num_epochs}] - '\n",
        "              f'Train Loss: {train_loss:.4f}, Train Acc: {train_acc:.2f}% - '\n",
        "              f'Val Loss: {val_loss:.4f}, Val Acc: {val_acc:.2f}%')\n",
        "\n",
        "print(\"-\" * 60)\n",
        "print(f\"Mejor precisión en validación: {best_val_acc:.2f}%\")\n",
        "\n"
      ],
      "metadata": {
        "colab": {
          "base_uri": "https://localhost:8080/"
        },
        "id": "2luswQQ9iY-F",
        "outputId": "8b9d724e-d459-47f1-a69e-a9b1f34fad20"
      },
      "execution_count": 12,
      "outputs": [
        {
          "output_type": "stream",
          "name": "stdout",
          "text": [
            "Iniciando entrenamiento...\n",
            "------------------------------------------------------------\n",
            "Época [  1/100] - Train Loss: 2.4927, Train Acc: 31.23% - Val Loss: 1.6344, Val Acc: 63.90%\n",
            "Época [ 10/100] - Train Loss: 0.7647, Train Acc: 77.09% - Val Loss: 0.4152, Val Acc: 87.88%\n",
            "Época [ 20/100] - Train Loss: 0.6057, Train Acc: 81.69% - Val Loss: 0.2868, Val Acc: 91.08%\n",
            "Época [ 30/100] - Train Loss: 0.5543, Train Acc: 83.09% - Val Loss: 0.2414, Val Acc: 92.60%\n",
            "Época [ 40/100] - Train Loss: 0.5040, Train Acc: 84.67% - Val Loss: 0.2268, Val Acc: 93.00%\n",
            "Época [ 50/100] - Train Loss: 0.4994, Train Acc: 84.70% - Val Loss: 0.2200, Val Acc: 93.25%\n",
            "Época [ 60/100] - Train Loss: 0.4797, Train Acc: 85.21% - Val Loss: 0.2173, Val Acc: 93.28%\n",
            "Época [ 70/100] - Train Loss: 0.4882, Train Acc: 84.83% - Val Loss: 0.2134, Val Acc: 93.33%\n",
            "Época [ 80/100] - Train Loss: 0.4813, Train Acc: 85.08% - Val Loss: 0.2135, Val Acc: 93.33%\n",
            "Época [ 90/100] - Train Loss: 0.4862, Train Acc: 85.12% - Val Loss: 0.2121, Val Acc: 93.38%\n",
            "Época [100/100] - Train Loss: 0.4826, Train Acc: 85.50% - Val Loss: 0.2126, Val Acc: 93.53%\n",
            "------------------------------------------------------------\n",
            "Mejor precisión en validación: 93.58%\n"
          ]
        }
      ]
    },
    {
      "cell_type": "code",
      "source": [
        "## Cargar el Mejor Modelo y Evaluación Final\n",
        "model.load_state_dict(best_model_state)\n",
        "\n",
        "# Evaluación final\n",
        "final_val_loss, final_val_acc = evaluate_model(model, test_loader, criterion)\n",
        "print(f\"Precisión final del modelo: {final_val_acc:.2f}%\")\n",
        "\n",
        "# Comparación con One-vs-All\n",
        "print(\"\\n\" + \"=\"*50)\n",
        "print(\"COMPARACIÓN DE RESULTADOS:\")\n",
        "print(\"=\"*50)\n",
        "print(\"One-vs-All (Regresión Logística): ~83-85% (aprox.)\")\n",
        "print(f\"Red Neuronal PyTorch: {final_val_acc:.2f}%\")\n",
        "print(f\"Mejora obtenida: {final_val_acc - 84:.2f} puntos porcentuales\")\n",
        "print(\"=\"*50)"
      ],
      "metadata": {
        "colab": {
          "base_uri": "https://localhost:8080/"
        },
        "id": "1EwbzmDSidCm",
        "outputId": "f93941d9-6360-4ee8-d771-0df59aeab8e7"
      },
      "execution_count": 13,
      "outputs": [
        {
          "output_type": "stream",
          "name": "stdout",
          "text": [
            "Precisión final del modelo: 93.53%\n",
            "\n",
            "==================================================\n",
            "COMPARACIÓN DE RESULTADOS:\n",
            "==================================================\n",
            "One-vs-All (Regresión Logística): ~83-85% (aprox.)\n",
            "Red Neuronal PyTorch: 93.53%\n",
            "Mejora obtenida: 9.53 puntos porcentuales\n",
            "==================================================\n"
          ]
        }
      ]
    },
    {
      "cell_type": "code",
      "source": [
        "## Visualización de Resultados\n",
        "# Gráficos de entrenamiento\n",
        "fig, ((ax1, ax2), (ax3, ax4)) = plt.subplots(2, 2, figsize=(15, 10))\n",
        "\n",
        "# Pérdida de entrenamiento\n",
        "ax1.plot(train_losses, label='Entrenamiento', color='blue')\n",
        "ax1.plot(val_losses, label='Validación', color='red')\n",
        "ax1.set_title('Pérdida Durante el Entrenamiento')\n",
        "ax1.set_xlabel('Época')\n",
        "ax1.set_ylabel('Pérdida')\n",
        "ax1.legend()\n",
        "ax1.grid(True)\n",
        "\n",
        "# Precisión de entrenamiento\n",
        "ax2.plot(train_accuracies, label='Entrenamiento', color='blue')\n",
        "ax2.plot(val_accuracies, label='Validación', color='red')\n",
        "ax2.set_title('Precisión Durante el Entrenamiento')\n",
        "ax2.set_xlabel('Época')\n",
        "ax2.set_ylabel('Precisión (%)')\n",
        "ax2.legend()\n",
        "ax2.grid(True)\n",
        "\n",
        "# Predicciones para matriz de confusión\n",
        "model.eval()\n",
        "all_predictions = []\n",
        "all_targets = []\n",
        "\n",
        "with torch.no_grad():\n",
        "    for data, target in test_loader:\n",
        "        outputs = model(data)\n",
        "        _, predicted = torch.max(outputs, 1)\n",
        "        all_predictions.extend(predicted.cpu().numpy())\n",
        "        all_targets.extend(target.cpu().numpy())\n",
        "\n",
        "# Matriz de confusión\n",
        "cm = confusion_matrix(all_targets, all_predictions)\n",
        "ax3.imshow(cm, interpolation='nearest', cmap=plt.cm.Blues)\n",
        "ax3.set_title('Matriz de Confusión')\n",
        "ax3.set_xlabel('Predicción')\n",
        "ax3.set_ylabel('Verdadero')\n",
        "\n",
        "# Precisión por clase\n",
        "class_accuracies = []\n",
        "for i in range(26):\n",
        "    mask = np.array(all_targets) == i\n",
        "    if np.sum(mask) > 0:\n",
        "        class_acc = np.mean(np.array(all_predictions)[mask] == i) * 100\n",
        "        class_accuracies.append(class_acc)\n",
        "    else:\n",
        "        class_accuracies.append(0)\n",
        "\n",
        "ax4.bar(range(26), class_accuracies, alpha=0.7)\n",
        "ax4.set_title('Precisión por Clase (Letra)')\n",
        "ax4.set_xlabel('Clase (Letra)')\n",
        "ax4.set_ylabel('Precisión (%)')\n",
        "ax4.set_xticks(range(0, 26, 5))\n",
        "ax4.set_xticklabels([chr(ord('A') + i) for i in range(0, 26, 5)])\n",
        "ax4.grid(True, alpha=0.3)\n",
        "\n",
        "plt.tight_layout()\n",
        "plt.show()\n",
        "\n"
      ],
      "metadata": {
        "colab": {
          "base_uri": "https://localhost:8080/",
          "height": 1000
        },
        "id": "tJFM8bnFijBQ",
        "outputId": "894ff94a-1da2-443c-805e-7d255490114a"
      },
      "execution_count": 18,
      "outputs": [
        {
          "output_type": "display_data",
          "data": {
            "text/plain": [
              "<Figure size 1500x1000 with 4 Axes>"
            ],
            "image/png": "[encoded data removed]"
          },
          "metadata": {}
        }
      ]
    },
    {
      "cell_type": "code",
      "source": [
        "## Reporte de Clasificación Detallado\n",
        "print(\"\\nREPORTE DE CLASIFICACIÓN DETALLADO:\")\n",
        "print(\"-\" * 50)\n",
        "target_names = [chr(ord('A') + i) for i in range(26)]\n",
        "report = classification_report(all_targets, all_predictions,\n",
        "                             target_names=target_names,\n",
        "                             digits=4)\n",
        "print(report)\n",
        "\n"
      ],
      "metadata": {
        "colab": {
          "base_uri": "https://localhost:8080/"
        },
        "id": "CyGtXBSbi2m-",
        "outputId": "e45d46f5-6f63-432d-eb90-053f8e5e629f"
      },
      "execution_count": 19,
      "outputs": [
        {
          "output_type": "stream",
          "name": "stdout",
          "text": [
            "\n",
            "REPORTE DE CLASIFICACIÓN DETALLADO:\n",
            "--------------------------------------------------\n",
            "              precision    recall  f1-score   support\n",
            "\n",
            "           A     0.9684    0.9684    0.9684       158\n",
            "           B     0.8571    0.9020    0.8790       153\n",
            "           C     0.9338    0.9592    0.9463       147\n",
            "           D     0.9167    0.9565    0.9362       161\n",
            "           E     0.9000    0.9351    0.9172       154\n",
            "           F     0.8795    0.9419    0.9097       155\n",
            "           G     0.9200    0.8903    0.9049       155\n",
            "           H     0.9333    0.8571    0.8936       147\n",
            "           I     0.9853    0.8874    0.9338       151\n",
            "           J     0.9474    0.9664    0.9568       149\n",
            "           K     0.9020    0.9324    0.9169       148\n",
            "           L     0.9463    0.9276    0.9369       152\n",
            "           M     1.0000    0.9304    0.9639       158\n",
            "           N     0.9539    0.9236    0.9385       157\n",
            "           O     0.9507    0.9000    0.9247       150\n",
            "           P     0.9800    0.9130    0.9453       161\n",
            "           Q     0.9506    0.9809    0.9655       157\n",
            "           R     0.8428    0.8874    0.8645       151\n",
            "           S     0.9091    0.9333    0.9211       150\n",
            "           T     0.9484    0.9245    0.9363       159\n",
            "           U     0.9586    0.9939    0.9759       163\n",
            "           V     0.9863    0.9412    0.9632       153\n",
            "           W     0.9313    0.9933    0.9613       150\n",
            "           X     0.9146    0.9554    0.9346       157\n",
            "           Y     0.9618    0.9618    0.9618       157\n",
            "           Z     0.9653    0.9456    0.9553       147\n",
            "\n",
            "    accuracy                         0.9353      4000\n",
            "   macro avg     0.9363    0.9350    0.9351      4000\n",
            "weighted avg     0.9365    0.9353    0.9353      4000\n",
            "\n"
          ]
        }
      ]
    },
    {
      "cell_type": "code",
      "source": [
        "## Análisis de Resultados\n",
        "print(\"\\nANÁLISIS DE RESULTADOS:\")\n",
        "print(\"-\" * 50)\n",
        "print(f\"• Precisión global: {final_val_acc:.2f}%\")\n",
        "print(f\"• Número de parámetros: {trainable_params:,}\")\n",
        "print(f\"• Épocas de entrenamiento: {num_epochs}\")\n",
        "print(f\"• Arquitectura: {input_size} → {' → '.join(map(str, hidden_sizes))} → {num_classes}\")"
      ],
      "metadata": {
        "colab": {
          "base_uri": "https://localhost:8080/"
        },
        "id": "nyEWAgAzjSNB",
        "outputId": "1132a98f-b951-447f-ee16-32bafb0f9e6b"
      },
      "execution_count": 20,
      "outputs": [
        {
          "output_type": "stream",
          "name": "stdout",
          "text": [
            "\n",
            "ANÁLISIS DE RESULTADOS:\n",
            "--------------------------------------------------\n",
            "• Precisión global: 93.53%\n",
            "• Número de parámetros: 13,818\n",
            "• Épocas de entrenamiento: 100\n",
            "• Arquitectura: 16 → 128 → 64 → 32 → 26\n"
          ]
        }
      ]
    },
    {
      "cell_type": "code",
      "source": [
        "# Estadísticas por clase\n",
        "worst_classes = np.argsort(class_accuracies)[:3]\n",
        "best_classes = np.argsort(class_accuracies)[-3:]\n",
        "\n",
        "print(f\"\\nClases con menor precisión:\")\n",
        "for i in worst_classes:\n",
        "    print(f\"  {chr(ord('A') + i)}: {class_accuracies[i]:.2f}%\")\n",
        "\n",
        "print(f\"\\nClases con mayor precisión:\")\n",
        "for i in best_classes[::-1]:\n",
        "    print(f\"  {chr(ord('A') + i)}: {class_accuracies[i]:.2f}%\")\n",
        "\n",
        "## Función para Hacer Predicciones en Nuevos Datos\n",
        "def predict_letters(model, X_new, label_encoder):\n",
        "    \"\"\"\n",
        "    Función para hacer predicciones en nuevos datos\n",
        "    \"\"\"\n",
        "    model.eval()\n",
        "    with torch.no_grad():\n",
        "        if isinstance(X_new, np.ndarray):\n",
        "            X_new = torch.FloatTensor(X_new).to(device)\n",
        "\n",
        "        outputs = model(X_new)\n",
        "        probabilities = torch.softmax(outputs, dim=1)\n",
        "        _, predicted = torch.max(outputs, 1)\n",
        "\n",
        "        # Convertir a letras\n",
        "        predicted_letters = label_encoder.inverse_transform(predicted.cpu().numpy())\n",
        "        probabilities_np = probabilities.cpu().numpy()\n",
        "\n",
        "    return predicted_letters, probabilities_np\n",
        "\n"
      ],
      "metadata": {
        "colab": {
          "base_uri": "https://localhost:8080/"
        },
        "id": "oY8VISctjXG8",
        "outputId": "550c5f0d-6c2c-41f6-9197-f59a81eeaaec"
      },
      "execution_count": 21,
      "outputs": [
        {
          "output_type": "stream",
          "name": "stdout",
          "text": [
            "\n",
            "Clases con menor precisión:\n",
            "  H: 85.71%\n",
            "  I: 88.74%\n",
            "  R: 88.74%\n",
            "\n",
            "Clases con mayor precisión:\n",
            "  U: 99.39%\n",
            "  W: 99.33%\n",
            "  Q: 98.09%\n"
          ]
        }
      ]
    },
    {
      "cell_type": "code",
      "source": [
        "# Ejemplo de uso\n",
        "print(\"\\nEJEMPLO DE PREDICCIÓN:\")\n",
        "print(\"-\" * 30)\n",
        "# Tomar una muestra aleatoria\n",
        "sample_idx = np.random.randint(0, len(X_test))\n",
        "sample_data = X_test[sample_idx:sample_idx+1]\n",
        "true_letter = label_encoder.inverse_transform([y_test[sample_idx]])[0]\n",
        "\n",
        "predicted_letters, probabilities = predict_letters(model, sample_data, label_encoder)\n",
        "confidence = np.max(probabilities) * 100\n",
        "\n",
        "print(f\"Letra verdadera: {true_letter}\")\n",
        "print(f\"Letra predicha: {predicted_letters[0]}\")\n",
        "print(f\"Confianza: {confidence:.2f}%\")\n",
        "\n",
        "print(\"\\nIMPLEMENTACIÓN COMPLETADA EXITOSAMENTE!\")"
      ],
      "metadata": {
        "colab": {
          "base_uri": "https://localhost:8080/"
        },
        "id": "E43k6WHvjY63",
        "outputId": "9a57a2ff-546e-4197-aaf0-98d366675cf9"
      },
      "execution_count": 23,
      "outputs": [
        {
          "output_type": "stream",
          "name": "stdout",
          "text": [
            "\n",
            "EJEMPLO DE PREDICCIÓN:\n",
            "------------------------------\n",
            "Letra verdadera: X\n",
            "Letra predicha: X\n",
            "Confianza: 99.81%\n",
            "\n",
            "IMPLEMENTACIÓN COMPLETADA EXITOSAMENTE!\n"
          ]
        }
      ]
    },
    {
      "cell_type": "code",
      "source": [],
      "metadata": {
        "id": "DSfSmVaCjcHV"
      },
      "execution_count": null,
      "outputs": []
    }
  ]
}