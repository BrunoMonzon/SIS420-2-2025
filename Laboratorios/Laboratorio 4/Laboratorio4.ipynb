{
  "nbformat": 4,
  "nbformat_minor": 0,
  "metadata": {
    "colab": {
      "provenance": []
    },
    "kernelspec": {
      "name": "python3",
      "display_name": "Python 3"
    },
    "language_info": {
      "name": "python"
    }
  },
  "cells": [
    {
      "cell_type": "code",
      "execution_count": 19,
      "metadata": {
        "id": "tVqINIypRdUa"
      },
      "outputs": [],
      "source": [
        "# CLASIFICACIÓN MULTIVARIABLE: RECONOCIMIENTO DE LETRAS DEL ALFABETO INGLÉS\n",
        "\n",
        "# ## Descripción\n",
        "# El dataset Letter Recognition (UCI Repository) contiene 20,000 ejemplos de letras mayúsculas (A-Z) con 16 características numéricas. Objetivo: entrenar un modelo de regresión logística multiclase (One-vs-All) para clasificar letras, mostrar efectividad con gráficos de costo y precisión, y validar con un split 80/20."
      ]
    },
    {
      "cell_type": "code",
      "source": [
        "# Importar bibliotecas\n",
        "from google.colab import drive\n",
        "drive.mount('/content/drive')\n",
        "\n",
        "import numpy as np\n",
        "import pandas as pd\n",
        "from matplotlib import pyplot as plt\n",
        "from scipy import optimize\n",
        "from sklearn.model_selection import train_test_split\n",
        "from sklearn.metrics import accuracy_score\n",
        "from sklearn.preprocessing import LabelEncoder\n",
        "\n",
        "%matplotlib inline\n",
        "plt.style.use('default')"
      ],
      "metadata": {
        "id": "hndu67he4_HG",
        "outputId": "90a4bb63-9f4f-4791-829f-f176df04d698",
        "colab": {
          "base_uri": "https://localhost:8080/"
        }
      },
      "execution_count": 20,
      "outputs": [
        {
          "output_type": "stream",
          "name": "stdout",
          "text": [
            "Drive already mounted at /content/drive; to attempt to forcibly remount, call drive.mount(\"/content/drive\", force_remount=True).\n"
          ]
        }
      ]
    },
    {
      "cell_type": "code",
      "source": [
        "## Carga y Exploración del Dataset\n",
        "# Se carga el dataset Letter Recognition (20,000 ejemplos, 16 features, 26 clases balanceadas). Se verifica la forma y el balance."
      ],
      "metadata": {
        "id": "gQCXAiWp5FTJ"
      },
      "execution_count": 21,
      "outputs": []
    },
    {
      "cell_type": "code",
      "source": [
        "# Cargar dataset\n",
        "try:\n",
        "    from ucimlrepo import fetch_ucirepo\n",
        "    letter_recognition = fetch_ucirepo(id=59)\n",
        "    X_features = letter_recognition.data.features\n",
        "    y_target = letter_recognition.data.targets\n",
        "    df = pd.concat([y_target, X_features], axis=1)\n",
        "except ImportError:\n",
        "    !pip install ucimlrepo\n",
        "    from ucimlrepo import fetch_ucirepo\n",
        "    letter_recognition = fetch_ucirepo(id=59)\n",
        "    X_features = letter_recognition.data.features\n",
        "    y_target = letter_recognition.data.targets\n",
        "    df = pd.concat([y_target, X_features], axis=1)\n",
        "except:\n",
        "    df = pd.read_csv('/content/drive/MyDrive/Datasets/letter-recognition.data',\n",
        "                     header=None,\n",
        "                     names=['lettr', 'x-box', 'y-box', 'width', 'high', 'onpix',\n",
        "                            'x-bar', 'y-bar', 'x2bar', 'y2bar', 'xybar', 'x2ybr',\n",
        "                            'xy2br', 'x-ege', 'xegvy', 'y-ege', 'yegvx'])\n",
        "\n",
        "# Información básica\n",
        "print(f\"Forma: {df.shape}, Clases: {df['lettr'].nunique()}\")\n",
        "class_distribution = df['lettr'].value_counts()\n",
        "print(\"Balance (min/max):\", class_distribution.min(), class_distribution.max())"
      ],
      "metadata": {
        "id": "nUMWCCF95KnY",
        "outputId": "80d06ace-1b58-408b-9076-1efc7cf9e68f",
        "colab": {
          "base_uri": "https://localhost:8080/"
        }
      },
      "execution_count": 22,
      "outputs": [
        {
          "output_type": "stream",
          "name": "stdout",
          "text": [
            "Collecting ucimlrepo\n",
            "  Downloading ucimlrepo-0.0.7-py3-none-any.whl.metadata (5.5 kB)\n",
            "Requirement already satisfied: pandas>=1.0.0 in /usr/local/lib/python3.12/dist-packages (from ucimlrepo) (2.2.2)\n",
            "Requirement already satisfied: certifi>=2020.12.5 in /usr/local/lib/python3.12/dist-packages (from ucimlrepo) (2025.8.3)\n",
            "Requirement already satisfied: numpy>=1.26.0 in /usr/local/lib/python3.12/dist-packages (from pandas>=1.0.0->ucimlrepo) (2.0.2)\n",
            "Requirement already satisfied: python-dateutil>=2.8.2 in /usr/local/lib/python3.12/dist-packages (from pandas>=1.0.0->ucimlrepo) (2.9.0.post0)\n",
            "Requirement already satisfied: pytz>=2020.1 in /usr/local/lib/python3.12/dist-packages (from pandas>=1.0.0->ucimlrepo) (2025.2)\n",
            "Requirement already satisfied: tzdata>=2022.7 in /usr/local/lib/python3.12/dist-packages (from pandas>=1.0.0->ucimlrepo) (2025.2)\n",
            "Requirement already satisfied: six>=1.5 in /usr/local/lib/python3.12/dist-packages (from python-dateutil>=2.8.2->pandas>=1.0.0->ucimlrepo) (1.17.0)\n",
            "Downloading ucimlrepo-0.0.7-py3-none-any.whl (8.0 kB)\n",
            "Installing collected packages: ucimlrepo\n",
            "Successfully installed ucimlrepo-0.0.7\n",
            "Forma: (20000, 17), Clases: 26\n",
            "Balance (min/max): 734 813\n"
          ]
        }
      ]
    },
    {
      "cell_type": "code",
      "source": [
        "## Preprocesamiento con Pandas\n",
        "# Se separan características (X) y etiquetas (y), codificando letras (A-Z) a números (0-25) y verificando balance."
      ],
      "metadata": {
        "id": "aDy7PNKz5MQC"
      },
      "execution_count": 23,
      "outputs": []
    },
    {
      "cell_type": "code",
      "source": [
        "# Separar datos\n",
        "X = df.iloc[:, 1:].values\n",
        "y_letters = df.iloc[:, 0].values\n",
        "label_encoder = LabelEncoder()\n",
        "y = label_encoder.fit_transform(y_letters)\n",
        "\n",
        "# Verificar balance\n",
        "unique, counts = np.unique(y, return_counts=True)\n",
        "print(\"Distribución numérica (ejemplos por clase):\", dict(zip(label_encoder.classes_, counts)))"
      ],
      "metadata": {
        "id": "wX4ZPA175QAK",
        "outputId": "041bb4e5-9960-49b6-98eb-333d448d9d55",
        "colab": {
          "base_uri": "https://localhost:8080/"
        }
      },
      "execution_count": 24,
      "outputs": [
        {
          "output_type": "stream",
          "name": "stdout",
          "text": [
            "Distribución numérica (ejemplos por clase): {'A': np.int64(789), 'B': np.int64(766), 'C': np.int64(736), 'D': np.int64(805), 'E': np.int64(768), 'F': np.int64(775), 'G': np.int64(773), 'H': np.int64(734), 'I': np.int64(755), 'J': np.int64(747), 'K': np.int64(739), 'L': np.int64(761), 'M': np.int64(792), 'N': np.int64(783), 'O': np.int64(753), 'P': np.int64(803), 'Q': np.int64(783), 'R': np.int64(758), 'S': np.int64(748), 'T': np.int64(796), 'U': np.int64(813), 'V': np.int64(764), 'W': np.int64(752), 'X': np.int64(787), 'Y': np.int64(786), 'Z': np.int64(734)}\n"
          ]
        }
      ]
    },
    {
      "cell_type": "code",
      "source": [
        "## Normalización de Características\n",
        "# Se normalizan las características usando z-score para mejorar el entrenamiento."
      ],
      "metadata": {
        "id": "H08SS4iK5SDg"
      },
      "execution_count": 25,
      "outputs": []
    },
    {
      "cell_type": "code",
      "source": [
        "def featureNormalize(X):\n",
        "    X_norm = X.copy()\n",
        "    mu = np.mean(X, axis=0)\n",
        "    sigma = np.std(X, axis=0)\n",
        "    sigma[sigma == 0] = 1\n",
        "    X_norm = (X - mu) / sigma\n",
        "    return X_norm, mu, sigma\n",
        "\n",
        "X_norm, mu, sigma = featureNormalize(X)\n",
        "print(\"Normalización aplicada. Dimensiones:\", X_norm.shape)"
      ],
      "metadata": {
        "id": "7oO8FPv-5Ua-",
        "outputId": "884b665c-52cc-4fbe-b1ca-2dd85be2b9e2",
        "colab": {
          "base_uri": "https://localhost:8080/"
        }
      },
      "execution_count": 26,
      "outputs": [
        {
          "output_type": "stream",
          "name": "stdout",
          "text": [
            "Normalización aplicada. Dimensiones: (20000, 16)\n"
          ]
        }
      ]
    },
    {
      "cell_type": "code",
      "source": [
        "## División de Datos\n",
        "# Se dividen los datos en 80% entrenamiento y 20% prueba, manteniendo el balance con stratify."
      ],
      "metadata": {
        "id": "v1nCzZDr5Vng"
      },
      "execution_count": 27,
      "outputs": []
    },
    {
      "cell_type": "code",
      "source": [
        "X_train, X_test, y_train, y_test = train_test_split(\n",
        "    X_norm, y, test_size=0.2, random_state=42, stratify=y\n",
        ")\n",
        "print(f\"Entrenamiento: {X_train.shape[0]}, Prueba: {X_test.shape[0]}\")"
      ],
      "metadata": {
        "id": "hPISlSBM5YBK",
        "outputId": "fca8c1ee-2a33-4ac3-af70-bd257ae3c37f",
        "colab": {
          "base_uri": "https://localhost:8080/"
        }
      },
      "execution_count": 28,
      "outputs": [
        {
          "output_type": "stream",
          "name": "stdout",
          "text": [
            "Entrenamiento: 16000, Prueba: 4000\n"
          ]
        }
      ]
    },
    {
      "cell_type": "code",
      "source": [
        "## Implementación de Regresión Logística Vectorizada\n",
        "# Se define la función sigmoide y el costo regularizado con gradiente para One-vs-All."
      ],
      "metadata": {
        "id": "FH8xeW7n5ZOl"
      },
      "execution_count": 29,
      "outputs": []
    },
    {
      "cell_type": "code",
      "source": [
        "def sigmoid(z):\n",
        "    z = np.clip(z, -500, 500)\n",
        "    return 1.0 / (1.0 + np.exp(-z))\n",
        "\n",
        "def lrCostFunction(theta, X, y, lambda_):\n",
        "    m = y.size\n",
        "    h = sigmoid(X.dot(theta))\n",
        "    h = np.clip(h, 1e-15, 1-1e-15)\n",
        "    J = (1/m) * np.sum(-y * np.log(h) - (1-y) * np.log(1-h))\n",
        "    theta_reg = theta.copy()\n",
        "    theta_reg[0] = 0\n",
        "    J += (lambda_/(2*m)) * np.sum(theta_reg**2)\n",
        "    grad = (1/m) * X.T.dot(h - y) + (lambda_/m) * theta_reg\n",
        "    return J, grad"
      ],
      "metadata": {
        "id": "xlV-Eokq5bXp"
      },
      "execution_count": 30,
      "outputs": []
    },
    {
      "cell_type": "code",
      "source": [
        "## Implementación de Clasificación One-vs-All\n",
        "# Se entrenan 26 clasificadores binarios, uno por clase, con regularización."
      ],
      "metadata": {
        "id": "SMvX2qLy5cyA"
      },
      "execution_count": 31,
      "outputs": []
    },
    {
      "cell_type": "code",
      "source": [
        "def oneVsAll(X, y, num_labels, lambda_):\n",
        "    m, n = X.shape\n",
        "    X_with_intercept = np.concatenate([np.ones((m, 1)), X], axis=1)\n",
        "    all_theta = np.zeros((num_labels, n + 1))\n",
        "    for c in range(num_labels):\n",
        "        y_binary = (y == c).astype(int)\n",
        "        initial_theta = np.zeros(n + 1)\n",
        "        result = optimize.minimize(\n",
        "            lrCostFunction, initial_theta, args=(X_with_intercept, y_binary, lambda_),\n",
        "            jac=True, method='CG', options={'maxiter': 100})\n",
        "        all_theta[c] = result.x\n",
        "    return all_theta\n",
        "\n",
        "lambda_reg = 0.1\n",
        "all_theta = oneVsAll(X_train, y_train, 26, lambda_reg)"
      ],
      "metadata": {
        "id": "MCf7cMO95emC"
      },
      "execution_count": 32,
      "outputs": []
    },
    {
      "cell_type": "code",
      "source": [
        "## Predicción One-vs-All\n",
        "# Se predicen las clases basándose en las probabilidades máximas."
      ],
      "metadata": {
        "id": "AqZ9jUWM5fz8"
      },
      "execution_count": 33,
      "outputs": []
    },
    {
      "cell_type": "code",
      "source": [
        "def predictOneVsAll(all_theta, X):\n",
        "    m = X.shape[0]\n",
        "    X_with_intercept = np.concatenate([np.ones((m, 1)), X], axis=1)\n",
        "    probabilities = sigmoid(X_with_intercept.dot(all_theta.T))\n",
        "    return np.argmax(probabilities, axis=1)\n",
        "\n",
        "pred_train = predictOneVsAll(all_theta, X_train)\n",
        "pred_test = predictOneVsAll(all_theta, X_test)"
      ],
      "metadata": {
        "id": "1PTNs_hS5jSr"
      },
      "execution_count": 34,
      "outputs": []
    },
    {
      "cell_type": "code",
      "source": [
        "## Entrenamiento y Evaluación\n",
        "# Se calcula la precisión en entrenamiento y prueba para evaluar el modelo."
      ],
      "metadata": {
        "id": "9ZOEh_D-5kiV"
      },
      "execution_count": 35,
      "outputs": []
    },
    {
      "cell_type": "code",
      "source": [
        "accuracy_train = accuracy_score(y_train, pred_train)\n",
        "accuracy_test = accuracy_score(y_test, pred_test)\n",
        "print(f\"Precisión Entrenamiento: {accuracy_train:.4f}, Prueba: {accuracy_test:.4f}\")"
      ],
      "metadata": {
        "id": "NSJ9POhF5mbe",
        "outputId": "08d62e98-dbe5-4ebc-d495-851876e05dc6",
        "colab": {
          "base_uri": "https://localhost:8080/"
        }
      },
      "execution_count": 36,
      "outputs": [
        {
          "output_type": "stream",
          "name": "stdout",
          "text": [
            "Precisión Entrenamiento: 0.7265, Prueba: 0.7262\n"
          ]
        }
      ]
    },
    {
      "cell_type": "code",
      "source": [
        "## Gráficos de Costo y Precisión\n",
        "# Se simula la convergencia del costo con gradiente descendente para algunas clases y se muestra la precisión por clase."
      ],
      "metadata": {
        "id": "xULLmDAq5n81"
      },
      "execution_count": 37,
      "outputs": []
    },
    {
      "cell_type": "code",
      "source": [
        "def analyzeConvergence(X, y, num_labels, lambda_, max_iter=50):\n",
        "    m, n = X.shape\n",
        "    X_with_intercept = np.concatenate([np.ones((m, 1)), X], axis=1)\n",
        "    sample_classes = [0, 7, 15, 25]  # A, H, P, Z\n",
        "    convergence_data = []\n",
        "    for c in sample_classes:\n",
        "        y_binary = (y == c).astype(int)\n",
        "        theta = np.zeros(n + 1)\n",
        "        costs = []\n",
        "        for iteration in range(max_iter):\n",
        "            cost, _ = lrCostFunction(theta, X_with_intercept, y_binary, lambda_)\n",
        "            costs.append(cost)\n",
        "            alpha = 0.01\n",
        "            theta -= alpha * optimize.approx_fprime(theta, lambda x: lrCostFunction(x, X_with_intercept, y_binary, lambda_)[0], 1e-7)\n",
        "        convergence_data.append({'class': c, 'costs': costs})\n",
        "    return convergence_data\n",
        "\n",
        "convergence_data = analyzeConvergence(X_train, y_train, 26, lambda_reg)\n",
        "plt.figure(figsize=(8, 5))\n",
        "for data in convergence_data:\n",
        "    plt.plot(data['costs'], label=f'Clase {data[\"class\"]}')\n",
        "plt.xlabel('Iteraciones')\n",
        "plt.ylabel('Costo')\n",
        "plt.title('Convergencia del Costo')\n",
        "plt.legend()\n",
        "plt.grid(True)\n",
        "plt.show()\n"
      ],
      "metadata": {
        "id": "4iaNuewx5qvi",
        "outputId": "2a4514ad-ac6e-4f1e-ddef-1ba54a42c574",
        "colab": {
          "base_uri": "https://localhost:8080/",
          "height": 487
        }
      },
      "execution_count": 39,
      "outputs": [
        {
          "output_type": "display_data",
          "data": {
            "text/plain": [
              "<Figure size 800x500 with 1 Axes>"
            ],
            "image/png": "[encoded data removed]"
          },
          "metadata": {}
        }
      ]
    },
    {
      "cell_type": "code",
      "source": [
        "# Precisión por clase\n",
        "class_accuracies = []\n",
        "for i in range(26):\n",
        "    mask = (y_test == i)\n",
        "    if np.sum(mask) > 0:\n",
        "        class_accuracies.append(np.mean(pred_test[mask] == i))\n",
        "plt.figure(figsize=(8, 5))\n",
        "plt.bar(range(26), class_accuracies)\n",
        "plt.xlabel('Clase (Letra)')\n",
        "plt.ylabel('Precisión')\n",
        "plt.title('Precisión por Clase')\n",
        "plt.xticks(range(0, 26, 5), [chr(ord('A') + i) for i in range(0, 26, 5)])\n",
        "plt.grid(True)\n",
        "plt.show()"
      ],
      "metadata": {
        "id": "D-DIv6QP5swv",
        "outputId": "d9d28940-9fd3-497c-f5ed-c9107a858fe0",
        "colab": {
          "base_uri": "https://localhost:8080/",
          "height": 488
        }
      },
      "execution_count": 40,
      "outputs": [
        {
          "output_type": "display_data",
          "data": {
            "text/plain": [
              "<Figure size 800x500 with 1 Axes>"
            ],
            "image/png": "[encoded data removed]"
          },
          "metadata": {}
        }
      ]
    },
    {
      "cell_type": "code",
      "source": [],
      "metadata": {
        "id": "XZWKL5Bw51eq"
      },
      "execution_count": null,
      "outputs": []
    }
  ]
}